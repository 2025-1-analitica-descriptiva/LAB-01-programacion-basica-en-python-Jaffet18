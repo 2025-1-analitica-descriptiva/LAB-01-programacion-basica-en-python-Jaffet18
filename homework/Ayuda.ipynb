{
 "cells": [
  {
   "cell_type": "code",
   "execution_count": 5,
   "id": "89ff3129",
   "metadata": {},
   "outputs": [
    {
     "name": "stdout",
     "output_type": "stream",
     "text": [
      "['1', '2', '5', '3', '6', '7', '9', '1', '2', '3', '7', '5', '3', '8', '9', '8', '3', '5', '8', '9', '7', '3', '5', '9', '4', '6', '8', '5', '6', '0', '9', '3', '5', '4', '6', '7', '8', '9', '1', '5']\n",
      "[1, 2, 5, 3, 6, 7, 9, 1, 2, 3, 7, 5, 3, 8, 9, 8, 3, 5, 8, 9, 7, 3, 5, 9, 4, 6, 8, 5, 6, 0, 9, 3, 5, 4, 6, 7, 8, 9, 1, 5]\n",
      "214\n"
     ]
    }
   ],
   "source": [
    "# Inicializar una lista vacía para almacenar los elementos de la segunda columna\n",
    "elementos_columna_dos = []\n",
    "\n",
    "# Especificar la ruta completa del archivo\n",
    "ruta_archivo = r'D:\\GitHub\\LABORATORIOS\\LAB-01-programacion-basica-en-python-Jaffet18\\files\\input\\data.csv'\n",
    "\n",
    "# Abrir el archivo y leer línea por línea\n",
    "with open(ruta_archivo, 'r') as archivo:\n",
    "    for linea in archivo:\n",
    "        # Dividir la línea por tabulaciones y obtener la segunda columna (índice 1)\n",
    "        columnas = linea.split('\\t')\n",
    "        try:\n",
    "            # Agregar el elemento a la lista sin cambiar su tipo\n",
    "            elementos_columna_dos.append(columnas[1])\n",
    "        except IndexError:\n",
    "            # Manejar el caso donde la columna no existe\n",
    "            continue\n",
    "\n",
    "print(elementos_columna_dos)\n",
    "\n",
    "# Convertir los elementos de la lista a enteros\n",
    "elementos_columna_dos_enteros = [int(elemento) for elemento in elementos_columna_dos]\n",
    "\n",
    "suma_elementos_columna_dos = sum(elementos_columna_dos_enteros)\n",
    "\n",
    "print(elementos_columna_dos_enteros)\n",
    "print(suma_elementos_columna_dos)\n",
    "\n"
   ]
  },
  {
   "cell_type": "code",
   "execution_count": 6,
   "id": "fa1e1640",
   "metadata": {},
   "outputs": [
    {
     "name": "stdout",
     "output_type": "stream",
     "text": [
      "{}\n"
     ]
    }
   ],
   "source": [
    "conteo_letras = {}\n",
    "print(conteo_letras)"
   ]
  },
  {
   "cell_type": "code",
   "execution_count": 3,
   "id": "cae90952",
   "metadata": {},
   "outputs": [
    {
     "ename": "TypeError",
     "evalue": "'int' object is not subscriptable",
     "output_type": "error",
     "traceback": [
      "\u001b[31m---------------------------------------------------------------------------\u001b[39m",
      "\u001b[31mTypeError\u001b[39m                                 Traceback (most recent call last)",
      "\u001b[36mCell\u001b[39m\u001b[36m \u001b[39m\u001b[32mIn[3]\u001b[39m\u001b[32m, line 48\u001b[39m\n\u001b[32m     46\u001b[39m     dic_suma = \u001b[38;5;28mdict\u001b[39m(\u001b[38;5;28msorted\u001b[39m(dic_suma.items()))\n\u001b[32m     47\u001b[39m     \u001b[38;5;28;01mreturn\u001b[39;00m dic_suma\n\u001b[32m---> \u001b[39m\u001b[32m48\u001b[39m \u001b[38;5;28mprint\u001b[39m(\u001b[43mpregunta_12\u001b[49m\u001b[43m(\u001b[49m\u001b[43m)\u001b[49m)\n",
      "\u001b[36mCell\u001b[39m\u001b[36m \u001b[39m\u001b[32mIn[3]\u001b[39m\u001b[32m, line 39\u001b[39m, in \u001b[36mpregunta_12\u001b[39m\u001b[34m()\u001b[39m\n\u001b[32m     36\u001b[39m     elementos[-\u001b[32m1\u001b[39m] = sum_digit\n\u001b[32m     37\u001b[39m \u001b[38;5;28;01mfor\u001b[39;00m elemento \u001b[38;5;129;01min\u001b[39;00m elementos:\n\u001b[32m     38\u001b[39m     \u001b[38;5;66;03m# Verificar si la clave ya existe en el diccionario\u001b[39;00m\n\u001b[32m---> \u001b[39m\u001b[32m39\u001b[39m     \u001b[38;5;28;01mif\u001b[39;00m \u001b[43melemento\u001b[49m\u001b[43m[\u001b[49m\u001b[32;43m0\u001b[39;49m\u001b[43m]\u001b[49m \u001b[38;5;129;01min\u001b[39;00m dic_suma:\n\u001b[32m     40\u001b[39m         \u001b[38;5;66;03m# Si existe, sumar el valor correspondiente\u001b[39;00m\n\u001b[32m     41\u001b[39m         dic_suma[elemento[\u001b[32m0\u001b[39m]] += elemento[\u001b[32m0\u001b[39m]\n\u001b[32m     42\u001b[39m     \u001b[38;5;28;01melse\u001b[39;00m:\n\u001b[32m     43\u001b[39m         \u001b[38;5;66;03m# Si no existe, crear una nueva entrada en el diccionario\u001b[39;00m\n",
      "\u001b[31mTypeError\u001b[39m: 'int' object is not subscriptable"
     ]
    }
   ],
   "source": [
    "def pregunta_12():\n",
    "    \"\"\"\n",
    "    Genere un diccionario que contengan como clave la columna 1 y como valor\n",
    "    la suma de los valores de la columna 5 que corresponden a esa clave,\n",
    "    ordenadas alfabeticamente. Para ello se deben extraer los valores que numéricos\n",
    "    de la columna 5, que se encuentran separados por comas. El resultado\n",
    "    debe ser un diccionario con la siguiente estructura:\n",
    "\n",
    "    {'A': 177, 'B': 187, 'C': 114, 'D': 136, 'E': 324}\n",
    "\n",
    "    Rta/\n",
    "    {'A': 177, 'B': 187, 'C': 114, 'D': 136, 'E': 324}\n",
    "\n",
    "    \"\"\"\n",
    "    # Inicializar un diccionario para almacenar los valores de cada clave\n",
    "    dic_suma = {}\n",
    "\n",
    "    # Especificar la ruta completa del archivo\n",
    "    ruta_archivo = r'D:\\GitHub\\LABORATORIOS\\LAB-01-programacion-basica-en-python-Jaffet18\\files\\input\\data.csv'\n",
    "\n",
    "    # Abrir el archivo CSV\n",
    "    with open(ruta_archivo, 'r') as archivo:\n",
    "        # Leer las líneas del archivo\n",
    "        lineas = archivo.readlines()\n",
    "        # Iterar sobre cada línea del archivo\n",
    "        for linea in lineas[:]:\n",
    "            # Crear una lista de tuplas con los elementos de cada línea agrupando los que están entre saltos de línea\n",
    "            elementos = linea.strip().split('\\t')\n",
    "            del elementos[1:4]\n",
    "            sum_digit = 0\n",
    "            #eliminar del segundo elemento de la lista elementos, todo valor que no sea un número\n",
    "            for i in elementos[-1]:\n",
    "                if i.isdigit():\n",
    "                    #Sumar los valores que son dígitos\n",
    "                    sum_digit = sum_digit + int(i)\n",
    "            elementos[-1] = sum_digit\n",
    "        for elemento in elementos:\n",
    "            # Verificar si la clave ya existe en el diccionario\n",
    "            if elemento[0] in dic_suma:\n",
    "                # Si existe, sumar el valor correspondiente\n",
    "                dic_suma[elemento[0]] += elemento[0]\n",
    "            else:\n",
    "                # Si no existe, crear una nueva entrada en el diccionario\n",
    "                dic_suma[elemento[0]] = elemento[0]\n",
    "    # Ordenar el diccionario por clave\n",
    "    dic_suma = dict(sorted(dic_suma.items()))\n",
    "    return dic_suma\n",
    "print(pregunta_12())"
   ]
  },
  {
   "cell_type": "code",
   "execution_count": 4,
   "id": "c33d7b9d",
   "metadata": {},
   "outputs": [
    {
     "name": "stdout",
     "output_type": "stream",
     "text": [
      "{'A': 159, 'B': 160, 'C': 87, 'D': 127, 'E': 297}\n"
     ]
    }
   ],
   "source": [
    "def pregunta_12():\n",
    "    \"\"\"\n",
    "    Genere un diccionario que contengan como clave la columna 1 y como valor\n",
    "    la suma de los valores de la columna 5 que corresponden a esa clave,\n",
    "    ordenadas alfabeticamente. Para ello se deben extraer los valores que numéricos\n",
    "    de la columna 5, que se encuentran separados por comas. El resultado\n",
    "    debe ser un diccionario con la siguiente estructura:\n",
    "\n",
    "    {'A': 177, 'B': 187, 'C': 114, 'D': 136, 'E': 324}\n",
    "\n",
    "    Rta/\n",
    "    {'A': 177, 'B': 187, 'C': 114, 'D': 136, 'E': 324}\n",
    "\n",
    "    \"\"\"\n",
    "    # Se crea el diccion\n",
    "    dic_suma = {}\n",
    "    ruta_archivo = r'D:\\GitHub\\LABORATORIOS\\LAB-01-programacion-basica-en-python-Jaffet18\\files\\input\\data.csv'\n",
    "\n",
    "    with open(ruta_archivo, 'r') as archivo:\n",
    "        lineas = archivo.readlines()\n",
    "        for linea in lineas:\n",
    "            elementos = linea.strip().split('\\t')\n",
    "            clave = elementos[0]  # Columna 1 (clave)\n",
    "            valores_col5 = elementos[4]  # Columna 5 (valores separados por comas)\n",
    "            \n",
    "            # Extraer solo los dígitos y sumarlos\n",
    "            suma = sum(int(c) for c in valores_col5 if c.isdigit())\n",
    "            \n",
    "            # Actualizar el diccionario\n",
    "            if clave in dic_suma:\n",
    "                dic_suma[clave] += suma\n",
    "            else:\n",
    "                dic_suma[clave] = suma\n",
    "\n",
    "    return dict(sorted(dic_suma.items()))\n",
    "\n",
    "print(pregunta_12())"
   ]
  }
 ],
 "metadata": {
  "kernelspec": {
   "display_name": ".venv",
   "language": "python",
   "name": "python3"
  },
  "language_info": {
   "codemirror_mode": {
    "name": "ipython",
    "version": 3
   },
   "file_extension": ".py",
   "mimetype": "text/x-python",
   "name": "python",
   "nbconvert_exporter": "python",
   "pygments_lexer": "ipython3",
   "version": "3.13.3"
  }
 },
 "nbformat": 4,
 "nbformat_minor": 5
}
